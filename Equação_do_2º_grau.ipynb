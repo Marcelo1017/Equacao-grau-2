{
  "nbformat": 4,
  "nbformat_minor": 0,
  "metadata": {
    "colab": {
      "provenance": [],
      "authorship_tag": "ABX9TyMU2Ld8rhBGVrGCih+QntGc",
      "include_colab_link": true
    },
    "kernelspec": {
      "name": "python3",
      "display_name": "Python 3"
    },
    "language_info": {
      "name": "python"
    }
  },
  "cells": [
    {
      "cell_type": "markdown",
      "metadata": {
        "id": "view-in-github",
        "colab_type": "text"
      },
      "source": [
        "<a href=\"https://colab.research.google.com/github/Marcelo1017/Equacao-grau-2/blob/main/Equa%C3%A7%C3%A3o_do_2%C2%BA_grau.ipynb\" target=\"_parent\"><img src=\"https://colab.research.google.com/assets/colab-badge.svg\" alt=\"Open In Colab\"/></a>"
      ]
    },
    {
      "cell_type": "code",
      "source": [
        "import os\n",
        "print('Calcula raizes equação 2º grau')\n",
        "a = float(input('Informe o Valor de A: '))\n",
        "if a == 0:\n",
        "    print('a equação não é do segundo grau')\n",
        "    os.system(\"pause\")\n",
        "else:\n",
        "  b = float(input('Informe o Valor de B: '))\n",
        "  c = float(input('Informe o Valor de C: '))\n",
        "  delta = (b ** 2) - 4 * (a * c)\n",
        "  print('Delta: ', delta)\n",
        "  if delta < 0:\n",
        "    print('A equação não possui raizes reais')\n",
        "    exit()\n",
        "  if delta > 0:\n",
        "    print('possui 2 raizes reais ')\n",
        "    raizdelta = delta ** 0.5\n",
        "    print('Raiz de delta',raizdelta)\n",
        "    x1 = (-b + raizdelta) / (2 * a)\n",
        "    x2 = (-b - raizdelta) / (2 * a)\n",
        "    print('x1: ',   x1)\n",
        "    print('x2: ',   x2)\n",
        " "
      ],
      "metadata": {
        "id": "9Wac6bbwsVbB"
      },
      "execution_count": null,
      "outputs": []
    }
  ]
}